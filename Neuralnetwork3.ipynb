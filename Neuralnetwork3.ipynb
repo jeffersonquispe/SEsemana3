{
 "cells": [
  {
   "cell_type": "code",
   "execution_count": 1,
   "metadata": {},
   "outputs": [
    {
     "name": "stderr",
     "output_type": "stream",
     "text": [
      "2018-11-08 23:09:46,229 : INFO : 'pattern' package not found; tag filters are not available for English\n"
     ]
    }
   ],
   "source": [
    "import logging\n",
    "logging.root.handlers = []  # Jupyter messes up logging so needs a reset\n",
    "logging.basicConfig(format='%(asctime)s : %(levelname)s : %(message)s', level=logging.INFO)\n",
    "from smart_open import smart_open\n",
    "import pandas as pd\n",
    "import numpy as np\n",
    "from numpy import random\n",
    "import gensim\n",
    "import nltk\n",
    "from sklearn.model_selection import train_test_split\n",
    "#from sklearn.cross_validation import train_test_split\n",
    "from sklearn import linear_model\n",
    "from sklearn.feature_extraction.text import CountVectorizer, TfidfVectorizer\n",
    "from sklearn.metrics import accuracy_score, confusion_matrix\n",
    "import matplotlib.pyplot as plt\n",
    "from gensim.models import Word2Vec\n",
    "from sklearn.neighbors import KNeighborsClassifier\n",
    "from sklearn import linear_model\n",
    "from nltk.corpus import stopwords\n",
    "from sklearn.externals import joblib\n",
    "\n",
    "from gensim.models.keyedvectors import KeyedVectors as wk\n",
    "\n",
    "\n",
    "%matplotlib inline"
   ]
  },
  {
   "cell_type": "code",
   "execution_count": 2,
   "metadata": {},
   "outputs": [
    {
     "data": {
      "text/plain": [
       "11557297"
      ]
     },
     "execution_count": 2,
     "metadata": {},
     "output_type": "execute_result"
    }
   ],
   "source": [
    "df=pd.read_csv(\"shuffled_movie_data.csv\")\n",
    "df=df.dropna()\n",
    "df.tail()\n",
    "df['review'].apply(lambda x: len(x.split(' '))).sum()"
   ]
  },
  {
   "cell_type": "code",
   "execution_count": 3,
   "metadata": {},
   "outputs": [
    {
     "data": {
      "text/plain": [
       "<matplotlib.axes._subplots.AxesSubplot at 0x7faefc2c35f8>"
      ]
     },
     "execution_count": 3,
     "metadata": {},
     "output_type": "execute_result"
    },
    {
     "data": {
      "image/png": "[encoded data removed]",
      "text/plain": [
       "<Figure size 432x288 with 1 Axes>"
      ]
     },
     "metadata": {
      "needs_background": "light"
     },
     "output_type": "display_data"
    }
   ],
   "source": [
    "my_tags=['negative','positive']\n",
    "df.sentiment.value_counts().plot(kind=\"bar\", rot=0)"
   ]
  },
  {
   "cell_type": "code",
   "execution_count": 4,
   "metadata": {},
   "outputs": [],
   "source": [
    "train_data, test_data = train_test_split(df, test_size=0.2, random_state=42)\n"
   ]
  },
  {
   "cell_type": "code",
   "execution_count": 5,
   "metadata": {},
   "outputs": [
    {
     "data": {
      "text/plain": [
       "10000"
      ]
     },
     "execution_count": 5,
     "metadata": {},
     "output_type": "execute_result"
    }
   ],
   "source": [
    "len(train_data)\n",
    "len(test_data)"
   ]
  },
  {
   "cell_type": "code",
   "execution_count": 6,
   "metadata": {},
   "outputs": [
    {
     "name": "stdout",
     "output_type": "stream",
     "text": [
      "0.6796875\n",
      "-0.5078125\n",
      "0.011801173\n"
     ]
    }
   ],
   "source": [
    "words=np.load(\"words.npy\").item()\n",
    "tmp=words[\"absolve\"]\n",
    "print(tmp.max())\n",
    "print(tmp.min())\n",
    "print(tmp.mean())"
   ]
  },
  {
   "cell_type": "code",
   "execution_count": 7,
   "metadata": {},
   "outputs": [
    {
     "data": {
      "text/plain": [
       "<matplotlib.axes._subplots.AxesSubplot at 0x7faec5aa36d8>"
      ]
     },
     "execution_count": 7,
     "metadata": {},
     "output_type": "execute_result"
    },
    {
     "data": {
      "image/png": "[encoded data removed]",
      "text/plain": [
       "<Figure size 432x288 with 1 Axes>"
      ]
     },
     "metadata": {
      "needs_background": "light"
     },
     "output_type": "display_data"
    }
   ],
   "source": [
    "test_data.sentiment.value_counts().plot(kind=\"bar\",rot=0)"
   ]
  },
  {
   "cell_type": "code",
   "execution_count": 8,
   "metadata": {},
   "outputs": [],
   "source": [
    "def plot_confusion_matrix(cm, title='Confusion matrix', cmap=plt.cm.Blues):\n",
    "    plt.imshow(cm, interpolation='nearest', cmap=cmap)\n",
    "    plt.title(title)\n",
    "    plt.colorbar()\n",
    "    tick_marks = np.arange(len(my_tags))\n",
    "    target_names = my_tags\n",
    "    plt.xticks(tick_marks, target_names, rotation=45)\n",
    "    plt.yticks(tick_marks, target_names)\n",
    "    plt.tight_layout()\n",
    "    plt.ylabel('True label')\n",
    "    plt.xlabel('Predicted label')"
   ]
  },
  {
   "cell_type": "code",
   "execution_count": 9,
   "metadata": {},
   "outputs": [],
   "source": [
    "def evaluate_prediction(predictions, target, title=\"Confusion matrix\"):\n",
    "    print('accuracy %s' % accuracy_score(target, predictions))\n",
    "    cm = confusion_matrix(target, predictions)\n",
    "    print('confusion matrix\\n %s' % cm)\n",
    "    print('(row=expected, col=predicted)')\n",
    "    \n",
    "    cm_normalized = cm.astype('float') / cm.sum(axis=1)[:, np.newaxis]\n",
    "    plot_confusion_matrix(cm_normalized, title + ' Normalized')"
   ]
  },
  {
   "cell_type": "code",
   "execution_count": 10,
   "metadata": {},
   "outputs": [],
   "source": [
    "def predict(vectorizer, classifier, data):\n",
    "    data_features = vectorizer.transform(data['review'])\n",
    "    predictions = classifier.predict(data_features)\n",
    "    target = data['sentiment']\n",
    "    evaluate_prediction(predictions, target)"
   ]
  },
  {
   "cell_type": "markdown",
   "metadata": {},
   "source": [
    "# Baseline: bag of words, n-grams, tf-idf"
   ]
  },
  {
   "cell_type": "markdown",
   "metadata": {},
   "source": [
    "#### Bag of words"
   ]
  },
  {
   "cell_type": "code",
   "execution_count": 11,
   "metadata": {},
   "outputs": [
    {
     "name": "stdout",
     "output_type": "stream",
     "text": [
      "CPU times: user 56.9 s, sys: 87.4 ms, total: 57 s\n",
      "Wall time: 57 s\n"
     ]
    }
   ],
   "source": [
    "%%time\n",
    "# training\n",
    "count_vectorizer = CountVectorizer(\n",
    "    analyzer=\"word\", tokenizer=nltk.word_tokenize,\n",
    "    preprocessor=None, stop_words='english', max_features=3000) \n",
    "train_data_features = count_vectorizer.fit_transform(train_data['review'])"
   ]
  },
  {
   "cell_type": "code",
   "execution_count": 12,
   "metadata": {},
   "outputs": [
    {
     "data": {
      "text/plain": [
       "<3x3000 sparse matrix of type '<class 'numpy.int64'>'\n",
       "\twith 156 stored elements in Compressed Sparse Row format>"
      ]
     },
     "execution_count": 12,
     "metadata": {},
     "output_type": "execute_result"
    }
   ],
   "source": [
    "train_data_features[:3]"
   ]
  },
  {
   "cell_type": "code",
   "execution_count": 13,
   "metadata": {},
   "outputs": [
    {
     "name": "stderr",
     "output_type": "stream",
     "text": [
      "/home/richard/home/anaconda3/lib/python3.6/site-packages/sklearn/linear_model/logistic.py:432: FutureWarning: Default solver will be changed to 'lbfgs' in 0.22. Specify a solver to silence this warning.\n",
      "  FutureWarning)\n"
     ]
    },
    {
     "name": "stdout",
     "output_type": "stream",
     "text": [
      "CPU times: user 12.1 s, sys: 55.9 ms, total: 12.2 s\n",
      "Wall time: 11.6 s\n"
     ]
    }
   ],
   "source": [
    "%%time\n",
    "logreg=linear_model.LogisticRegression(n_jobs=1,C=1e5)\n",
    "logrog=logreg.fit(train_data_features,train_data['sentiment'])"
   ]
  },
  {
   "cell_type": "code",
   "execution_count": 14,
   "metadata": {},
   "outputs": [
    {
     "data": {
      "text/plain": [
       "['!',\n",
       " '#',\n",
       " '$',\n",
       " '%',\n",
       " '&',\n",
       " \"'\",\n",
       " \"''\",\n",
       " \"'d\",\n",
       " \"'ll\",\n",
       " \"'m\",\n",
       " \"'re\",\n",
       " \"'s\",\n",
       " \"'the\",\n",
       " \"'ve\",\n",
       " '(',\n",
       " ')',\n",
       " '*',\n",
       " '***',\n",
       " '****',\n",
       " ',']"
      ]
     },
     "execution_count": 14,
     "metadata": {},
     "output_type": "execute_result"
    }
   ],
   "source": [
    "count_vectorizer.get_feature_names()[:20]"
   ]
  },
  {
   "cell_type": "code",
   "execution_count": 15,
   "metadata": {},
   "outputs": [
    {
     "name": "stdout",
     "output_type": "stream",
     "text": [
      "accuracy 0.8699\n",
      "confusion matrix\n",
      " [[4333  701]\n",
      " [ 600 4366]]\n",
      "(row=expected, col=predicted)\n",
      "CPU times: user 14.9 s, sys: 0 ns, total: 14.9 s\n",
      "Wall time: 14.9 s\n"
     ]
    },
    {
     "data": {
      "image/png": "[encoded data removed]",
      "text/plain": [
       "<Figure size 432x288 with 2 Axes>"
      ]
     },
     "metadata": {
      "needs_background": "light"
     },
     "output_type": "display_data"
    }
   ],
   "source": [
    "%%time\n",
    "predict(count_vectorizer,logreg,test_data)"
   ]
  },
  {
   "cell_type": "markdown",
   "metadata": {},
   "source": [
    "### Character N-grams"
   ]
  },
  {
   "cell_type": "code",
   "execution_count": null,
   "metadata": {},
   "outputs": [],
   "source": [
    "%%time\n",
    "n_gram_vectorizer=CountVectorizer(\n",
    "    analyzer=\"char\",\n",
    "    ngram_range=([2,5]),\n",
    "    tokenizer=None,preprocessor=None,\n",
    "    max_features=3000)\n",
    "\n",
    "logreg=linear_model.LogisticRegression(n_jobs=1,C=1e5)\n",
    "train_data_features=n_gram_vectorizer.fit_transform(train_data['review'])\n",
    "logreg=logreg.fit(train_data_features,train_data['sentiment'])"
   ]
  },
  {
   "cell_type": "code",
   "execution_count": null,
   "metadata": {},
   "outputs": [],
   "source": [
    "n_gram_vectorizer.get_feature_names()[3050:3060]"
   ]
  },
  {
   "cell_type": "code",
   "execution_count": null,
   "metadata": {},
   "outputs": [],
   "source": [
    "%%time\n",
    "predict(n_gram_vectorizer, logreg, test_data)\n"
   ]
  },
  {
   "cell_type": "markdown",
   "metadata": {},
   "source": [
    "# WORDTOVEC"
   ]
  },
  {
   "cell_type": "code",
   "execution_count": 15,
   "metadata": {},
   "outputs": [
    {
     "name": "stderr",
     "output_type": "stream",
     "text": [
      "2018-11-08 23:11:49,842 : INFO : loading projection weights from GoogleNews-vectors-negative300.bin.gz\n",
      "2018-11-08 23:13:23,296 : INFO : loaded (3000000, 300) matrix from GoogleNews-vectors-negative300.bin.gz\n",
      "2018-11-08 23:13:23,297 : INFO : precomputing L2-norms of word weight vectors\n"
     ]
    },
    {
     "name": "stdout",
     "output_type": "stream",
     "text": [
      "CPU times: user 1min 50s, sys: 2.33 s, total: 1min 52s\n",
      "Wall time: 1min 55s\n"
     ]
    }
   ],
   "source": [
    "%%time\n",
    "\n",
    "wv = wk.load_word2vec_format(\"GoogleNews-vectors-negative300.bin.gz\", binary=True)\n",
    "wv.init_sims(replace=True)\n"
   ]
  },
  {
   "cell_type": "code",
   "execution_count": 16,
   "metadata": {},
   "outputs": [
    {
     "data": {
      "text/plain": [
       "['indoors',\n",
       " 'commercially',\n",
       " 'scouts',\n",
       " 'State_Condoleezza_Rice',\n",
       " 'Election_Day',\n",
       " 'satellites',\n",
       " 'Dalton',\n",
       " 'Pack',\n",
       " 'Marina',\n",
       " 'Cherry',\n",
       " 'selective',\n",
       " 'dear',\n",
       " 'scout',\n",
       " 'blogger',\n",
       " 'Tony_Blair',\n",
       " 'Nairobi',\n",
       " 'Zurich',\n",
       " 'Milford',\n",
       " 'Notes_@',\n",
       " 'motel']"
      ]
     },
     "execution_count": 16,
     "metadata": {},
     "output_type": "execute_result"
    }
   ],
   "source": [
    "from itertools import islice\n",
    "list(islice(wv.vocab, 13000, 13020))"
   ]
  },
  {
   "cell_type": "code",
   "execution_count": 17,
   "metadata": {},
   "outputs": [],
   "source": [
    "def word_averaging(wv, words):\n",
    "    all_words, mean = set(), []\n",
    "    \n",
    "    for word in words:\n",
    "        if isinstance(word, np.ndarray):\n",
    "            mean.append(word)\n",
    "        elif word in wv.vocab:\n",
    "            mean.append(wv.syn0norm[wv.vocab[word].index])\n",
    "            all_words.add(wv.vocab[word].index)\n",
    "\n",
    "    if not mean:\n",
    "        logging.warning(\"cannot compute similarity with no input %s\", words)\n",
    "        # FIXME: remove these examples in pre-processing\n",
    "        return np.zeros(wv.layer1_size,)\n",
    "\n",
    "    mean = gensim.matutils.unitvec(np.array(mean).mean(axis=0)).astype(np.float32)\n",
    "    return mean\n",
    "\n",
    "def  word_averaging_list(wv, text_list):\n",
    "    return np.vstack([word_averaging(wv,review) for review in text_list])"
   ]
  },
  {
   "cell_type": "code",
   "execution_count": 18,
   "metadata": {},
   "outputs": [],
   "source": [
    "'''\n",
    "def w2v_tokenize_text(text):\n",
    "    tokens = []\n",
    "    for sent in nltk.sent_tokenize(text, language='english'):\n",
    "        for word in nltk.word_tokenize(sent, language='english'):\n",
    "            if len(word) < 2:\n",
    "                continue\n",
    "            tokens.append(word)\n",
    "    return tokens\n",
    "'''\n",
    "def w2v_tokenize_text(text):\n",
    "    tokens = []\n",
    "    for sent in nltk.sent_tokenize(text, language='english'):\n",
    "        for word in nltk.word_tokenize(sent, language='english'):\n",
    "            if len(word) < 2:\n",
    "                continue\n",
    "            if word in stopwords.words('english'):\n",
    "                continue\n",
    "            tokens.append(word)\n",
    "    return tokens"
   ]
  },
  {
   "cell_type": "code",
   "execution_count": null,
   "metadata": {},
   "outputs": [],
   "source": [
    "test_tokenized = test_data.apply(lambda r: w2v_tokenize_text(r['review']), axis=1).values\n",
    "train_tokenized = train_data.apply(lambda r: w2v_tokenize_text(r['review']), axis=1).values"
   ]
  },
  {
   "cell_type": "code",
   "execution_count": 25,
   "metadata": {},
   "outputs": [
    {
     "ename": "NameError",
     "evalue": "name 'train_tokenized' is not defined",
     "output_type": "error",
     "traceback": [
      "\u001b[0;31m---------------------------------------------------------------------------\u001b[0m",
      "\u001b[0;31mNameError\u001b[0m                                 Traceback (most recent call last)",
      "\u001b[0;32m<timed exec>\u001b[0m in \u001b[0;36m<module>\u001b[0;34m\u001b[0m\n",
      "\u001b[0;31mNameError\u001b[0m: name 'train_tokenized' is not defined"
     ]
    }
   ],
   "source": [
    "%%time\n",
    "X_train_word_average = word_averaging_list(wv,train_tokenized)\n",
    "X_test_word_average = word_averaging_list(wv,test_tokenized)"
   ]
  },
  {
   "cell_type": "code",
   "execution_count": 21,
   "metadata": {},
   "outputs": [
    {
     "name": "stdout",
     "output_type": "stream",
     "text": [
      "CPU times: user 15.1 ms, sys: 0 ns, total: 15.1 ms\n",
      "Wall time: 122 ms\n"
     ]
    }
   ],
   "source": [
    "%%time\n",
    "knn_naive_dv = KNeighborsClassifier(n_neighbors=3, n_jobs=1, algorithm='brute', metric='cosine' )\n",
    "knn_naive_dv.fit(X_train_word_average, train_data.sentiment)"
   ]
  },
  {
   "cell_type": "code",
   "execution_count": 22,
   "metadata": {},
   "outputs": [
    {
     "name": "stdout",
     "output_type": "stream",
     "text": [
      "CPU times: user 12.5 s, sys: 1.72 s, total: 14.2 s\n",
      "Wall time: 1min 14s\n"
     ]
    }
   ],
   "source": [
    "%%time\n",
    "predicted = knn_naive_dv.predict(X_test_word_average)"
   ]
  },
  {
   "cell_type": "code",
   "execution_count": 23,
   "metadata": {},
   "outputs": [
    {
     "name": "stdout",
     "output_type": "stream",
     "text": [
      "accuracy 0.7709\n",
      "confusion matrix\n",
      " [[4084  950]\n",
      " [1341 3625]]\n",
      "(row=expected, col=predicted)\n"
     ]
    },
    {
     "data": {
      "image/png": "[encoded data removed]",
      "text/plain": [
       "<Figure size 432x288 with 2 Axes>"
      ]
     },
     "metadata": {
      "needs_background": "light"
     },
     "output_type": "display_data"
    }
   ],
   "source": [
    "evaluate_prediction(predicted, test_data.sentiment)"
   ]
  },
  {
   "cell_type": "code",
   "execution_count": 24,
   "metadata": {},
   "outputs": [
    {
     "name": "stderr",
     "output_type": "stream",
     "text": [
      "/home/richard/home/anaconda3/lib/python3.6/site-packages/sklearn/linear_model/logistic.py:432: FutureWarning: Default solver will be changed to 'lbfgs' in 0.22. Specify a solver to silence this warning.\n",
      "  FutureWarning)\n"
     ]
    },
    {
     "name": "stdout",
     "output_type": "stream",
     "text": [
      "CPU times: user 3.53 s, sys: 215 ms, total: 3.74 s\n",
      "Wall time: 22.8 s\n"
     ]
    }
   ],
   "source": [
    "%%time\n",
    "logreg = linear_model.LogisticRegression(n_jobs=1, C=1e5)\n",
    "\n",
    "logreg = logreg.fit(X_train_word_average, train_data['sentiment'])\n",
    "predicted = logreg.predict(X_test_word_average)\n",
    "\n"
   ]
  },
  {
   "cell_type": "code",
   "execution_count": 24,
   "metadata": {},
   "outputs": [
    {
     "ename": "NameError",
     "evalue": "name 'X_train_word_average' is not defined",
     "output_type": "error",
     "traceback": [
      "\u001b[0;31m---------------------------------------------------------------------------\u001b[0m",
      "\u001b[0;31mNameError\u001b[0m                                 Traceback (most recent call last)",
      "\u001b[0;32m<ipython-input-24-7f5dd2cd7422>\u001b[0m in \u001b[0;36m<module>\u001b[0;34m\u001b[0m\n\u001b[0;32m----> 1\u001b[0;31m \u001b[0mX_train_word_average\u001b[0m\u001b[0;34m\u001b[0m\u001b[0m\n\u001b[0m",
      "\u001b[0;31mNameError\u001b[0m: name 'X_train_word_average' is not defined"
     ]
    }
   ],
   "source": [
    "X_train_word_average"
   ]
  },
  {
   "cell_type": "code",
   "execution_count": 25,
   "metadata": {},
   "outputs": [
    {
     "name": "stdout",
     "output_type": "stream",
     "text": [
      "accuracy 0.8613\n",
      "confusion matrix\n",
      " [[4322  712]\n",
      " [ 675 4291]]\n",
      "(row=expected, col=predicted)\n"
     ]
    },
    {
     "data": {
      "image/png": "[encoded data removed]",
      "text/plain": [
       "<Figure size 432x288 with 2 Axes>"
      ]
     },
     "metadata": {
      "needs_background": "light"
     },
     "output_type": "display_data"
    }
   ],
   "source": [
    "evaluate_prediction(predicted, test_data.sentiment)"
   ]
  },
  {
   "cell_type": "code",
   "execution_count": 22,
   "metadata": {},
   "outputs": [],
   "source": [
    "df1=train_data[['sentiment']]"
   ]
  },
  {
   "cell_type": "code",
   "execution_count": 23,
   "metadata": {},
   "outputs": [
    {
     "ename": "NameError",
     "evalue": "name 'X_train_word_average' is not defined",
     "output_type": "error",
     "traceback": [
      "\u001b[0;31m---------------------------------------------------------------------------\u001b[0m",
      "\u001b[0;31mNameError\u001b[0m                                 Traceback (most recent call last)",
      "\u001b[0;32m<ipython-input-23-17b4dfb2bbe9>\u001b[0m in \u001b[0;36m<module>\u001b[0;34m\u001b[0m\n\u001b[0;32m----> 1\u001b[0;31m \u001b[0mX\u001b[0m\u001b[0;34m=\u001b[0m\u001b[0mX_train_word_average\u001b[0m\u001b[0;34m\u001b[0m\u001b[0m\n\u001b[0m\u001b[1;32m      2\u001b[0m \u001b[0my\u001b[0m\u001b[0;34m=\u001b[0m\u001b[0mdf1\u001b[0m\u001b[0;34m.\u001b[0m\u001b[0mvalues\u001b[0m\u001b[0;34m\u001b[0m\u001b[0m\n\u001b[1;32m      3\u001b[0m \u001b[0mxPredicted\u001b[0m\u001b[0;34m=\u001b[0m\u001b[0mX_test_word_average\u001b[0m\u001b[0;34m\u001b[0m\u001b[0m\n\u001b[1;32m      4\u001b[0m \u001b[0my\u001b[0m\u001b[0;34m.\u001b[0m\u001b[0mshape\u001b[0m\u001b[0;34m\u001b[0m\u001b[0m\n",
      "\u001b[0;31mNameError\u001b[0m: name 'X_train_word_average' is not defined"
     ]
    }
   ],
   "source": [
    "X=X_train_word_average\n",
    "y=df1.values\n",
    "xPredicted=X_test_word_average\n",
    "y.shape"
   ]
  },
  {
   "cell_type": "code",
   "execution_count": null,
   "metadata": {},
   "outputs": [],
   "source": [
    "class Neural_Network(object):\n",
    "    def __init__(self):\n",
    "        #parameters\n",
    "        self.inputSize = 300\n",
    "        self.outputSize = 1\n",
    "        self.hiddenSize = 500\n",
    "        #weights\n",
    "        self.W1 = np.random.randn(self.inputSize,self.hiddenSize)  # (3x2) weight matrix from input to hidden layer\n",
    "        #print(\"W1\",self.W1)\n",
    "\n",
    "        self.W2 = np.random.randn(self.hiddenSize,self.outputSize)  # (3x1) weight matrix from hidden to output layer\n",
    "        #print(\"W2\",self.W2)\n",
    "                \n",
    "    def forward(self, X):\n",
    "        #forward propagation through our network\n",
    "        self.z = np.dot(\n",
    "            X,\n",
    "            self.W1)  # dot product of X (input) and first set of 3x2 weights\n",
    "        self.z2 = self.sigmoid(self.z)  # activation function\n",
    "        self.z3 = np.dot(\n",
    "            self.z2, self.W2\n",
    "        )  # dot product of hidden layer (z2) and second set of 3x1 weights\n",
    "        o = self.sigmoid(self.z3)  # final activation function\n",
    "\n",
    "        return o\n",
    "\n",
    "    def sigmoid(self, s):\n",
    "        # activation function\n",
    "        return 1 / (1 + np.exp(-s))\n",
    "\n",
    "    def sigmoidPrime(self, s):\n",
    "        #derivative of sigmoid\n",
    "        return s * (1 - s)\n",
    "\n",
    "    def backward(self, X, y, o):\n",
    "        # backward propgate through the networ\n",
    "        #print(\"y\",y)\n",
    "        #print(\"o\",o)\n",
    "        self.o_error = y - o  # error in output\n",
    "        self.o_delta = self.o_error * self.sigmoidPrime(\n",
    "            o)  # applying derivative of sigmoid to error\n",
    "\n",
    "        self.z2_error = self.o_delta.dot(\n",
    "            self.W2.T\n",
    "        )  # z2 error: how much our hidden layer weights contributed to output error\n",
    "        self.z2_delta = self.z2_error * self.sigmoidPrime(\n",
    "            self.z2)  # applying derivative of sigmoid to z2 error\n",
    "\n",
    "        self.W1 += X.T.dot(\n",
    "            self.z2_delta)  # adjusting first set (input --> hidden) weights\n",
    "        self.W2 += self.z2.T.dot(\n",
    "            self.o_delta)  # adjusting second set (hidden --> output) weights\n",
    "\n",
    "    def train(self, X, y):\n",
    "        o = self.forward(X)\n",
    "        self.backward(X, y, o)\n",
    "\n",
    "    def saveWeights(self):\n",
    "        np.savetxt(\"w1.txt\", self.W1, fmt=\"%s\")\n",
    "        np.savetxt(\"w2.txt\", self.W2, fmt=\"%s\")\n",
    "\n",
    "    def predict(self):\n",
    "        print (\"Predicted data based on trained weights: \")\n",
    "        print (\"Input (scaled): \\n\" + str(xPredicted))\n",
    "        #print (\"Output: \\n\" + str(self.forward(xPredicted)))\n",
    "        a=self.forward(xPredicted)\n",
    "        print(\"a\",a.shape[1])\n",
    "        for i in range (a.shape[0]):\n",
    "            if(a[i][0]>.5):\n",
    "                print(\"ok\",a[i][0])\n",
    "                a[i][0]=1\n",
    "                con1=con1+1\n",
    "            else:\n",
    "                #print(\"ok\",a[i][0])\n",
    "                a[i][0]=0\n",
    "                con0=con0+1\n",
    "        print(\"1 \",con1)\n",
    "        print(\"0 \",con0)\n",
    "        return a\n",
    "  \n",
    "\n",
    "\n"
   ]
  },
  {
   "cell_type": "code",
   "execution_count": null,
   "metadata": {},
   "outputs": [
    {
     "name": "stdout",
     "output_type": "stream",
     "text": [
      "W1 [[ 0.44853733  0.00717194 -1.91352848 ... -1.33681132 -0.06554715\n",
      "  -0.8077594 ]\n",
      " [-0.82590394  2.13732229 -0.410852   ... -0.62964535 -0.33473799\n",
      "  -0.24184457]\n",
      " [-0.18664628 -0.06766442  0.67785783 ... -1.515259   -0.7520752\n",
      "  -0.37168977]\n",
      " ...\n",
      " [ 1.32377689 -0.98680834  0.21334526 ...  0.39758989 -0.09149863\n",
      "   0.21402027]\n",
      " [-0.19196271  0.39644795  0.79765378 ... -0.9811287  -0.93363851\n",
      "  -0.26045984]\n",
      " [ 0.96601478  0.36939555  2.11363772 ... -0.5785771  -1.6064874\n",
      "  -1.41679813]]\n",
      "W2 [[-1.78928024e+00]\n",
      " [ 4.36289066e-01]\n",
      " [-1.55614588e+00]\n",
      " [ 1.62744571e+00]\n",
      " [-4.89933611e-01]\n",
      " [-4.12605887e-01]\n",
      " [ 8.69573982e-02]\n",
      " [ 2.23773457e+00]\n",
      " [ 8.24155642e-01]\n",
      " [-2.48166734e-01]\n",
      " [ 7.66916065e-01]\n",
      " [ 1.04570961e+00]\n",
      " [ 2.11537921e+00]\n",
      " [-6.17444365e-01]\n",
      " [ 3.68137152e-01]\n",
      " [-5.23320772e-01]\n",
      " [ 1.22642833e+00]\n",
      " [-5.16824225e-01]\n",
      " [ 1.26084869e+00]\n",
      " [-1.34662731e+00]\n",
      " [-6.00459636e-02]\n",
      " [ 6.77761462e-01]\n",
      " [-1.74501490e-01]\n",
      " [ 4.33747376e-01]\n",
      " [-4.79661547e-01]\n",
      " [ 1.03234763e+00]\n",
      " [-1.26988118e+00]\n",
      " [ 9.37843288e-01]\n",
      " [ 1.16683648e+00]\n",
      " [-1.73369220e+00]\n",
      " [ 9.32860545e-01]\n",
      " [ 4.09094166e-01]\n",
      " [ 4.57624383e-01]\n",
      " [ 4.00413523e-01]\n",
      " [-2.01378844e-01]\n",
      " [ 1.19649899e+00]\n",
      " [ 4.05918470e-01]\n",
      " [ 2.69708410e-01]\n",
      " [-3.01491095e-01]\n",
      " [-2.97869699e+00]\n",
      " [-1.42230600e+00]\n",
      " [-2.46822798e+00]\n",
      " [ 2.88369653e+00]\n",
      " [ 2.13900721e-01]\n",
      " [-3.99217409e-01]\n",
      " [-4.51401837e-01]\n",
      " [ 8.57117018e-03]\n",
      " [-8.32681767e-01]\n",
      " [-7.91291635e-01]\n",
      " [-6.16283758e-01]\n",
      " [-1.77504124e-01]\n",
      " [-4.25462546e-01]\n",
      " [-4.13806927e-01]\n",
      " [-8.69386507e-01]\n",
      " [ 1.87866034e+00]\n",
      " [-1.67485010e+00]\n",
      " [ 4.35019835e-01]\n",
      " [-1.06837572e+00]\n",
      " [-5.23657652e-01]\n",
      " [ 1.74463237e+00]\n",
      " [ 1.89556093e-01]\n",
      " [-1.15505271e+00]\n",
      " [-7.77336684e-01]\n",
      " [-4.68899271e-01]\n",
      " [ 1.87176225e-01]\n",
      " [ 1.48351317e-01]\n",
      " [-4.46173168e-01]\n",
      " [ 1.41091718e-01]\n",
      " [-3.56495598e-01]\n",
      " [-2.67017599e-01]\n",
      " [-1.26192186e+00]\n",
      " [ 9.04031614e-02]\n",
      " [-1.31664220e+00]\n",
      " [-1.20789125e+00]\n",
      " [ 1.11225039e+00]\n",
      " [-1.00429857e+00]\n",
      " [ 2.48806535e+00]\n",
      " [-5.30243221e-01]\n",
      " [ 5.09003485e-01]\n",
      " [ 1.56421119e+00]\n",
      " [-1.30875916e+00]\n",
      " [ 8.60959203e-02]\n",
      " [ 5.36352591e-01]\n",
      " [ 2.75337837e-01]\n",
      " [ 5.58531586e-01]\n",
      " [-2.19632512e+00]\n",
      " [ 3.11185591e+00]\n",
      " [ 3.45015179e-01]\n",
      " [ 6.78204025e-01]\n",
      " [-1.41049255e+00]\n",
      " [-9.82213219e-01]\n",
      " [ 9.77915764e-01]\n",
      " [-4.69025691e-01]\n",
      " [ 8.25158871e-02]\n",
      " [-5.98639406e-01]\n",
      " [-1.45097551e+00]\n",
      " [ 1.49701221e-01]\n",
      " [ 9.44202263e-01]\n",
      " [-8.95084354e-01]\n",
      " [-9.74045538e-03]\n",
      " [-1.09345719e+00]\n",
      " [-1.36525321e+00]\n",
      " [-5.37819606e-01]\n",
      " [ 8.28873481e-01]\n",
      " [ 9.15258575e-01]\n",
      " [ 1.06265182e+00]\n",
      " [-1.35006497e+00]\n",
      " [ 3.71307028e-01]\n",
      " [-1.40663852e+00]\n",
      " [-5.16445029e-01]\n",
      " [ 2.24896179e-01]\n",
      " [ 1.85380662e-01]\n",
      " [-8.31584313e-02]\n",
      " [ 1.17287098e+00]\n",
      " [ 3.46188709e-01]\n",
      " [-3.14323014e+00]\n",
      " [ 3.74049042e-01]\n",
      " [-6.77135252e-01]\n",
      " [ 9.39684816e-01]\n",
      " [-6.79007380e-01]\n",
      " [ 4.05793800e-02]\n",
      " [-1.59004571e-01]\n",
      " [-7.94441082e-01]\n",
      " [-1.11782235e+00]\n",
      " [-6.83292891e-01]\n",
      " [ 9.26558125e-01]\n",
      " [ 9.52577577e-01]\n",
      " [-3.58124105e-01]\n",
      " [-1.69926128e+00]\n",
      " [ 1.24891049e+00]\n",
      " [-7.88797160e-01]\n",
      " [ 1.44643081e-01]\n",
      " [-1.97976710e+00]\n",
      " [-1.53775258e+00]\n",
      " [ 5.10053228e-01]\n",
      " [-9.50074026e-01]\n",
      " [-2.28444408e+00]\n",
      " [-2.41455684e+00]\n",
      " [ 1.17081201e+00]\n",
      " [ 1.48871650e-01]\n",
      " [ 4.95739520e-02]\n",
      " [ 8.97279498e-01]\n",
      " [ 3.10474926e-01]\n",
      " [-3.57862848e-01]\n",
      " [-8.20103724e-01]\n",
      " [ 7.42566023e-01]\n",
      " [ 3.45275332e-01]\n",
      " [ 7.23700381e-02]\n",
      " [-1.52951753e+00]\n",
      " [-2.38312141e-01]\n",
      " [ 1.07390135e+00]\n",
      " [ 2.85957384e-01]\n",
      " [-1.50853702e+00]\n",
      " [ 2.51102759e+00]\n",
      " [-6.75349946e-01]\n",
      " [-1.11524647e+00]\n",
      " [ 1.11007448e+00]\n",
      " [-5.83930608e-01]\n",
      " [ 1.23199903e-04]\n",
      " [ 8.29286103e-01]\n",
      " [ 6.98052144e-01]\n",
      " [-8.99833874e-01]\n",
      " [ 2.98658755e-02]\n",
      " [ 5.95496293e-01]\n",
      " [-1.30610658e+00]\n",
      " [-5.18830900e-02]\n",
      " [ 6.19883598e-01]\n",
      " [ 8.45563056e-01]\n",
      " [-2.19800532e-01]\n",
      " [-9.95664288e-01]\n",
      " [-9.42986819e-01]\n",
      " [-3.04227154e-01]\n",
      " [ 3.01811764e-01]\n",
      " [-8.23373450e-01]\n",
      " [ 6.29833555e-01]\n",
      " [-3.29737407e-01]\n",
      " [-1.43262991e+00]\n",
      " [-1.47246090e-01]\n",
      " [-7.78931994e-01]\n",
      " [-3.99070607e-01]\n",
      " [-1.60939457e+00]\n",
      " [-1.62682347e-01]\n",
      " [ 3.49642487e-01]\n",
      " [-7.02395680e-01]\n",
      " [-4.14723149e-01]\n",
      " [-6.28493244e-01]\n",
      " [-1.01628215e-01]\n",
      " [-1.54134798e+00]\n",
      " [-4.21654865e-01]\n",
      " [ 5.82185201e-01]\n",
      " [-1.25246480e-01]\n",
      " [ 1.16599669e+00]\n",
      " [ 5.51397350e-02]\n",
      " [ 1.85896645e+00]\n",
      " [ 1.75229959e+00]\n",
      " [-7.58497383e-01]\n",
      " [ 1.55600866e+00]\n",
      " [-5.30004256e-01]\n",
      " [-3.68694108e-01]\n",
      " [ 9.06069494e-01]\n",
      " [ 4.24956897e-03]\n",
      " [-4.15327790e-01]\n",
      " [-1.00589706e-01]\n",
      " [ 2.54683766e-01]\n",
      " [-5.21504139e-01]\n",
      " [-2.59251392e-01]\n",
      " [-7.80869615e-02]\n",
      " [-1.30395385e+00]\n",
      " [-2.52743673e-01]\n",
      " [ 6.61467081e-01]\n",
      " [-3.57594644e-01]\n",
      " [-8.43358395e-01]\n",
      " [-1.13408533e+00]\n",
      " [ 2.43799588e-01]\n",
      " [ 2.12883202e+00]\n",
      " [-3.99125992e-01]\n",
      " [ 2.05508452e+00]\n",
      " [-8.99803110e-02]\n",
      " [ 5.49278582e-01]\n",
      " [-4.32941765e-01]\n",
      " [ 4.12378908e-01]\n",
      " [-1.62240842e+00]\n",
      " [-7.22274303e-03]\n",
      " [ 7.75167834e-01]\n",
      " [-1.48438714e+00]\n",
      " [ 8.11962667e-01]\n",
      " [-1.56340683e+00]\n",
      " [-7.55965773e-01]\n",
      " [-9.61992948e-01]\n",
      " [-9.22155314e-01]\n",
      " [ 1.24377262e+00]\n",
      " [-6.18827791e-01]\n",
      " [-3.08788638e-01]\n",
      " [-1.47163436e+00]\n",
      " [ 8.12996484e-02]\n",
      " [ 1.03506696e+00]\n",
      " [ 2.34244005e-01]\n",
      " [ 3.00748421e-01]\n",
      " [ 8.08393079e-01]\n",
      " [-1.21116883e-01]\n",
      " [-8.61843799e-01]\n",
      " [-1.12449136e+00]\n",
      " [ 6.99096961e-01]\n",
      " [ 1.34860424e+00]\n",
      " [ 4.22099699e-01]\n",
      " [-1.54105195e+00]\n",
      " [-4.91858124e-01]\n",
      " [ 1.77017076e+00]\n",
      " [-1.85507768e+00]\n",
      " [ 5.88712033e-01]\n",
      " [ 9.60215629e-01]\n",
      " [-1.79191197e+00]\n",
      " [-2.31425250e-01]\n",
      " [ 1.61064453e+00]\n",
      " [ 3.02716863e-01]\n",
      " [ 4.97054231e-01]\n",
      " [-1.38164388e+00]\n",
      " [-3.95849673e-02]\n",
      " [-4.56209801e-01]\n",
      " [-6.79269648e-01]\n",
      " [ 8.19759294e-01]\n",
      " [ 1.61635206e+00]\n",
      " [-1.81467358e+00]\n",
      " [ 3.32655658e-01]\n",
      " [ 7.13725739e-01]\n",
      " [ 1.37954747e+00]\n",
      " [-6.29705738e-01]\n",
      " [-7.39733412e-01]\n",
      " [ 4.48012152e-01]\n",
      " [-1.44781232e+00]\n",
      " [ 1.53210311e+00]\n",
      " [-5.60685889e-01]\n",
      " [-1.84909837e-01]\n",
      " [-5.62256307e-01]\n",
      " [-9.07315754e-01]\n",
      " [ 6.82549861e-01]\n",
      " [ 9.39847094e-01]\n",
      " [-2.40736709e-02]\n",
      " [ 4.30629885e-01]\n",
      " [ 3.99402421e-01]\n",
      " [ 2.10168489e-01]\n",
      " [ 1.02572527e+00]\n",
      " [ 3.63527181e-01]\n",
      " [-5.26941531e-01]\n",
      " [-7.20256891e-02]\n",
      " [-1.53595173e+00]\n",
      " [-1.49810492e+00]\n",
      " [-2.06232545e-01]\n",
      " [-1.41798213e-01]\n",
      " [ 4.01643980e-01]\n",
      " [ 4.68041759e-01]\n",
      " [ 1.88893606e+00]\n",
      " [ 3.31361389e-01]\n",
      " [-8.50342685e-01]\n",
      " [-1.14629968e-01]\n",
      " [-1.32943947e+00]\n",
      " [ 1.40796652e+00]\n",
      " [ 1.15930645e+00]\n",
      " [ 2.71869157e-01]\n",
      " [ 7.37265956e-01]\n",
      " [ 1.08091787e+00]\n",
      " [-6.99063374e-01]\n",
      " [ 7.84817823e-02]\n",
      " [-1.86505760e+00]\n",
      " [-1.26417721e+00]\n",
      " [-1.19218625e-01]\n",
      " [-4.77087920e-01]\n",
      " [ 1.86716995e+00]\n",
      " [ 1.86201777e-01]\n",
      " [-1.92080621e-01]\n",
      " [ 1.23349509e+00]\n",
      " [-9.18102545e-01]\n",
      " [ 4.97988708e-01]\n",
      " [ 1.53260936e+00]\n",
      " [-6.13534141e-01]\n",
      " [-3.65342128e-02]\n",
      " [ 4.29443239e-01]\n",
      " [-8.80708269e-03]\n",
      " [-1.16063753e+00]\n",
      " [ 2.79966536e-01]\n",
      " [ 1.01800493e+00]\n",
      " [-1.06832168e+00]\n",
      " [-1.25135693e+00]\n",
      " [ 3.74291295e-01]\n",
      " [ 1.13721758e-01]\n",
      " [-1.21946254e-01]\n",
      " [-1.74939950e+00]\n",
      " [ 3.30985524e-01]\n",
      " [ 8.51648907e-01]\n",
      " [ 1.69689520e+00]\n",
      " [-1.02198130e+00]\n",
      " [ 1.05200280e+00]\n",
      " [ 1.47017675e+00]\n",
      " [ 1.11501498e+00]\n",
      " [-3.93698552e+00]\n",
      " [-4.53315186e-01]\n",
      " [-1.46275285e+00]\n",
      " [-2.18766520e-01]\n",
      " [ 4.06548259e-01]\n",
      " [-2.25274329e-01]\n",
      " [ 1.17383943e+00]\n",
      " [ 5.29809685e-01]\n",
      " [-2.00128406e+00]\n",
      " [ 4.81640780e-01]\n",
      " [ 7.25643442e-01]\n",
      " [-6.91347564e-01]\n",
      " [-3.80012183e-01]\n",
      " [ 3.74310828e-01]\n",
      " [-1.56704049e-01]\n",
      " [ 2.02224116e-01]\n",
      " [ 2.23104860e-01]\n",
      " [ 7.70003048e-02]\n",
      " [ 2.45319085e+00]\n",
      " [-1.17725220e+00]\n",
      " [-9.94621532e-02]\n",
      " [ 5.56661504e-02]\n",
      " [-6.06831613e-01]\n",
      " [ 7.20554192e-01]\n",
      " [-8.84868260e-01]\n",
      " [ 5.99360522e-01]\n",
      " [ 8.00828601e-01]\n",
      " [ 2.82117588e-01]\n",
      " [-7.43086343e-01]\n",
      " [ 1.23108192e+00]\n",
      " [ 4.06949471e-01]\n",
      " [-2.39821377e+00]\n",
      " [-7.76149186e-02]\n",
      " [ 2.37002544e+00]\n",
      " [-6.41494407e-01]\n",
      " [-8.11701422e-01]\n",
      " [ 1.35086181e+00]\n",
      " [-2.16597935e-01]\n",
      " [-9.08459400e-01]\n",
      " [ 7.99939079e-01]\n",
      " [-3.70476265e-01]\n",
      " [-3.83774146e-01]\n",
      " [ 1.51739858e+00]\n",
      " [ 2.48738873e-01]\n",
      " [-3.16409454e-01]\n",
      " [ 9.21719501e-01]\n",
      " [ 5.52667460e-01]\n",
      " [ 6.40465720e-01]\n",
      " [ 1.36137934e+00]\n",
      " [-1.03079270e+00]\n",
      " [-1.11968112e+00]\n",
      " [-5.50753709e-01]\n",
      " [ 3.68416151e-01]\n",
      " [-4.42189144e-01]\n",
      " [-4.86094468e-01]\n",
      " [ 1.62857789e+00]\n",
      " [-6.21360457e-01]\n",
      " [ 4.19386299e-01]\n",
      " [-2.86954499e-01]\n",
      " [ 5.46477348e-02]\n",
      " [ 7.73509604e-01]\n",
      " [ 6.29080854e-03]\n",
      " [ 1.73656067e+00]\n",
      " [ 3.26441627e-01]\n",
      " [-5.83844737e-01]\n",
      " [ 9.13065229e-02]\n",
      " [-8.73452628e-02]\n",
      " [-5.52377722e-01]\n",
      " [ 9.04333363e-01]\n",
      " [-2.07075735e-01]\n",
      " [ 4.32591178e-01]\n",
      " [ 1.37161674e-01]\n",
      " [-1.56798288e-01]\n",
      " [-1.45563530e+00]\n",
      " [ 1.30342236e+00]\n",
      " [ 1.25176395e-01]\n",
      " [-8.71776110e-01]\n",
      " [ 9.72941805e-01]\n",
      " [ 2.33465883e-01]\n",
      " [-6.77284800e-01]\n",
      " [ 1.06661666e-01]\n",
      " [ 9.76914732e-01]\n",
      " [ 2.00850180e-01]\n",
      " [ 3.63963711e-01]\n",
      " [ 1.91408382e-01]\n",
      " [ 9.36417520e-01]\n",
      " [-6.36284433e-01]\n",
      " [ 7.18499625e-01]\n",
      " [ 1.01537877e+00]\n",
      " [ 5.40337132e-02]\n",
      " [-4.98018210e-01]\n",
      " [-4.44194996e-01]\n",
      " [-1.77275085e+00]\n",
      " [-7.23970616e-01]\n",
      " [-4.77379722e-01]\n",
      " [ 1.68930335e-01]\n",
      " [ 7.53133730e-01]\n",
      " [ 4.26542759e-01]\n",
      " [-4.16041870e-01]\n",
      " [ 3.14098911e-01]\n",
      " [-2.48643487e-01]\n",
      " [-6.54952921e-01]\n",
      " [ 1.49682824e+00]\n",
      " [ 1.28906180e+00]\n",
      " [-1.04953161e+00]\n",
      " [-5.57820803e-01]\n",
      " [ 9.75879986e-01]\n",
      " [ 1.26855939e+00]\n",
      " [-2.11842053e-01]\n",
      " [ 1.47979158e+00]\n",
      " [ 1.41665873e+00]\n",
      " [ 1.35219798e+00]\n",
      " [ 2.76380655e-02]\n",
      " [ 1.58968314e+00]\n",
      " [ 1.40028562e+00]\n",
      " [ 1.51045132e+00]\n",
      " [-3.92466806e-01]\n",
      " [-7.75079650e-02]\n",
      " [ 2.46148514e-02]\n",
      " [-3.40997222e-01]\n",
      " [ 1.40022679e+00]\n",
      " [ 5.64168038e-01]\n",
      " [ 1.07214399e+00]\n",
      " [ 4.16687565e-01]\n",
      " [-4.94489246e-01]\n",
      " [ 8.91335341e-01]\n",
      " [-2.48222452e-01]\n",
      " [-6.15892220e-01]\n",
      " [-5.67142469e-01]\n",
      " [ 5.95891334e-01]\n",
      " [ 6.33701347e-01]\n",
      " [-1.26013449e+00]\n",
      " [-1.10986062e+00]\n",
      " [-9.73047832e-01]\n",
      " [-6.86950149e-01]\n",
      " [ 8.84461579e-01]\n",
      " [-6.41732091e-03]\n",
      " [ 3.73523314e-01]\n",
      " [ 1.83413718e+00]\n",
      " [ 8.01715029e-01]\n",
      " [ 2.02630936e+00]\n",
      " [ 1.15800012e-01]\n",
      " [ 2.02917350e+00]\n",
      " [-6.86156489e-01]\n",
      " [ 4.39123417e-01]\n",
      " [-7.26188319e-01]\n",
      " [-2.97527957e-01]\n",
      " [ 6.46049823e-02]\n",
      " [ 1.06568364e+00]\n",
      " [-7.71473076e-01]\n",
      " [-5.81260245e-01]\n",
      " [ 1.46196032e-01]\n",
      " [ 2.54970114e+00]\n",
      " [-1.80613874e-01]\n",
      " [ 1.39096343e+00]\n",
      " [-2.52532165e+00]\n",
      " [ 1.00730658e+00]\n",
      " [-6.32883078e-01]\n",
      " [ 1.12827355e+00]\n",
      " [ 5.65083368e-01]\n",
      " [-1.63776388e-01]\n",
      " [-2.76417378e+00]\n",
      " [ 1.02050141e-01]\n",
      " [-1.47132439e+00]\n",
      " [ 5.45047412e-01]\n",
      " [-1.33645453e+00]]\n",
      " #0\n",
      "\n"
     ]
    },
    {
     "name": "stdout",
     "output_type": "stream",
     "text": [
      "Predicted Output: \n",
      "[[0.98240911]\n",
      " [0.59400119]\n",
      " [0.20514576]\n",
      " ...\n",
      " [0.5796612 ]\n",
      " [0.3400583 ]\n",
      " [0.84345744]]\n",
      "error Loss: \n",
      "0.38859543586832523\n",
      "\n",
      "\n"
     ]
    }
   ],
   "source": [
    "NN = Neural_Network()\n",
    "for i in range(100): # trains the NN 1,000 times\n",
    "    print (\" #\" + str(i) + \"\\n\")\n",
    "    #print (\"Input (scaled): \\n\" + str(X))\n",
    "    #print (\"Actual Output: \\n\" + str(y))\n",
    "    print (\"Predicted Output: \\n\" + str(NN.forward(X)))\n",
    "    print (\"error Loss: \\n\" + str(np.mean(np.square(y - NN.forward(X)))))  # mean sum squared loss\n",
    "    #print('accuracy %s' % accuracy_score(y, NN.forward(X)))\n",
    "    print(\"\\n\")\n",
    "    NN.train(X, y)\n",
    "\n",
    "NN.saveWeights()\n",
    "a=NN.predict()"
   ]
  },
  {
   "cell_type": "code",
   "execution_count": null,
   "metadata": {},
   "outputs": [],
   "source": []
  },
  {
   "cell_type": "code",
   "execution_count": null,
   "metadata": {},
   "outputs": [],
   "source": []
  }
 ],
 "metadata": {
  "kernelspec": {
   "display_name": "Python 3",
   "language": "python",
   "name": "python3"
  },
  "language_info": {
   "codemirror_mode": {
    "name": "ipython",
    "version": 3
   },
   "file_extension": ".py",
   "mimetype": "text/x-python",
   "name": "python",
   "nbconvert_exporter": "python",
   "pygments_lexer": "ipython3",
   "version": "3.6.6"
  }
 },
 "nbformat": 4,
 "nbformat_minor": 2
}
